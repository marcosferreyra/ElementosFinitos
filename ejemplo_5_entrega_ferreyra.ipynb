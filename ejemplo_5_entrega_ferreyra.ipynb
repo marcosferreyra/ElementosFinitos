{
 "cells": [
  {
   "cell_type": "markdown",
   "id": "c301f3bc",
   "metadata": {},
   "source": [
    "# Introducción a Elementos Finitos\n",
    "# Actividad 3\n",
    "## Autor: Ferreyra, Marcos José (29554)\n",
    "### 1. Desarrolle el script de Python similar al script ejemplo5.py pero ahora para el problema de la Ecuación de Poisson descripto para condición de borde de Robin. \n"
   ]
  },
  {
   "cell_type": "markdown",
   "id": "358f473f",
   "metadata": {},
   "source": [
    "Una ecuación de Poisson con condiciones de borde de Robin en ambos extremos (en el caso 1D), se define como:\n",
    "\n",
    "$$ \\left \\{ \\begin{array}{l} -\\left(au^{'}\\right)^{'}=f \\ \\ \\text{ para } \\ \\ x\\in I=\\left(0,1 \\right) \\\\   au^{'}(0)=k_{0}\\left(u(0)-g_{0}\\right)  \\ \\ \\text{condición de borde Robin} \\\\  -au^{'}(1)=k_{1}\\left(u(1)-g_{1}\\right)  \\ \\ \\text{condición de borde Robin} \\end{array} \\right . $$\n",
    "\n",
    "Sabemos que para resolver un problema utilizando condiciones de Robin debemos resolver un \n",
    "sistema de ecuaciones que se expresará de la siguiente manera:\n",
    "\n",
    "$$\\left(A+R\\right)\\xi = b+r $$\n",
    "\n"
   ]
  },
  {
   "cell_type": "markdown",
   "id": "717365b2",
   "metadata": {},
   "source": [
    "Donde: \n",
    "\n",
    "$$ A = \\begin{bmatrix} \\frac{a}{h} & \\frac{-a}{h} & \\cdots & 0 \\\\ \\frac{-a}{h} & \\frac{2a}{h} & \\cdots & \\vdots \\\\ \\vdots &  & \\frac{2a}{h} & \\vdots \\\\  0 & \\cdots & \\frac{-a}{h} & \\frac{a}{h} \\end{bmatrix}$$\n",
    "\n",
    "$$R = \\begin{bmatrix}k_{0} & 0 & \\cdots & 0 \\\\ 0 & \\ddots & \\cdots & \\vdots \\\\ \\vdots &  &  & \\vdots \\\\  0 & \\cdots & \\cdots & k_{1} \\end{bmatrix}$$\n",
    "\n",
    "$$r= \\begin{bmatrix} k_{0}g_{0}\\\\0\\\\ \\vdots \\\\ 0\\\\ k_{1}g_{1}\\end{bmatrix}$$\n",
    "\n",
    "$$ b = \\begin{bmatrix} f(x_{0})\\frac{h}{2}\\\\f(x_{1})h\\\\ \\vdots \\\\ f(x_{n-1})h \\\\ f(x_{n})\\frac{h}{2} \\end{bmatrix}.$$\n",
    "    \n",
    "\n",
    "\n"
   ]
  },
  {
   "cell_type": "markdown",
   "id": "f9776e19",
   "metadata": {},
   "source": [
    "**Comenzamos definiendo la malla, las constantes propias del material y la de las condiciones de borde:**"
   ]
  },
  {
   "cell_type": "code",
   "execution_count": 145,
   "id": "3e3b1372",
   "metadata": {},
   "outputs": [],
   "source": [
    "import numpy as np \n",
    "\n",
    "nx = 5 #numero de intervalos\n",
    "nodos = nx+1 #cantidad de nodos\n",
    "pi = 3.14159\n",
    "E = 2E11 #Módulo de Elasticidad en [Pa]\n",
    "radio = 0.01 #Radio de la viga circular en [m]\n",
    "Ar = pi*(radio**2)\n",
    "a = Ar*E\n",
    "\n",
    "#Constantes de las condiciones de borde Robin\n",
    "k0=  2\n",
    "k1 = 1\n",
    "g0 = 1\n",
    "g1 = 1\n"
   ]
  },
  {
   "cell_type": "markdown",
   "id": "3e80e38d",
   "metadata": {},
   "source": [
    "**Creamos A, R, b y r. 'h' como podremos intuir es la distancia entre vértice y vértice:**"
   ]
  },
  {
   "cell_type": "code",
   "execution_count": 146,
   "id": "24c64226",
   "metadata": {},
   "outputs": [],
   "source": [
    "h = 1/(nx)\n",
    "\n",
    "#Matriz A\n",
    "Apre = (2*a/h)*np.eye(nx+1) #(n+1)*(n+1)\n",
    "Apre[0 , 0] , Apre[nx , nx] = a/h , a/h\n",
    "\n",
    "\n",
    "rows, cols = np.indices((nx+1,nx+1)) #Le doy nombres a las coordenadas de la matriz\n",
    "row_vals = np.diag(rows, k=-1) #Identifico los sitios con los cuales voy a trabajar , k es la diagonal antes o \n",
    "col_vals = np.diag(cols, k=-1) #después o la mismisima diagonal principal\n",
    "z1 = np.zeros((nx+1,nx+1)) #Creo una matriz de ceros\n",
    "z1[row_vals, col_vals]=-a/h #En las coordenadas row_vals y col_vals agrego el valor de -a/h\n",
    "\n",
    "row_vals = np.diag(rows, k=1)\n",
    "col_vals = np.diag(cols, k=1)\n",
    "z2 = np.zeros((nx+1,nx+1))\n",
    "z2[row_vals, col_vals]=-a/h\n",
    "\n",
    "A = Apre+z1+z2 #Matriz rigidéz\n",
    "\n",
    "#Creación de la matriz R\n",
    "\n",
    "R = np.zeros((nx+1,nx+1))\n",
    "R[0,0], R[nx, nx] = k0 , k1\n",
    "\n",
    "AwithR = A + R #Miembro derecho del sistema de ecuaciones mencionado anteriormente\n",
    "\n",
    "#Creación del vector carga\n",
    "\n",
    "#Creación de la matriz r\n",
    "r = np.zeros((nx+1, 1))\n",
    "r[0,0] , r[nx, 0] = k0*g0 , k1*g1\n",
    "\n",
    "#Creación de la matriz b\n",
    "f = 1\n",
    "b = f*h*np.ones((nx+1,1))\n",
    "b[0,0] = f*h*0.5\n",
    "b[nx,0] = f*h*0.5\n",
    "bwithr = b + r #Vector carga\n"
   ]
  },
  {
   "cell_type": "markdown",
   "id": "03cc03b0",
   "metadata": {},
   "source": [
    "**Calculamos la solución del sistema de ecuaciones y graficamos:**"
   ]
  },
  {
   "cell_type": "code",
   "execution_count": 147,
   "id": "babff07f",
   "metadata": {},
   "outputs": [
    {
     "name": "stdout",
     "output_type": "stream",
     "text": [
      "[1.3333333  1.33333331 1.33333331 1.33333331 1.33333331 1.33333331]\n"
     ]
    },
    {
     "data": {
      "text/plain": [
       "[<matplotlib.lines.Line2D at 0x7fc2ee6eceb0>]"
      ]
     },
     "execution_count": 147,
     "metadata": {},
     "output_type": "execute_result"
    },
    {
     "data": {
      "image/png": "[encoded data removed]",
      "text/plain": [
       "<Figure size 432x288 with 1 Axes>"
      ]
     },
     "metadata": {
      "needs_background": "light"
     },
     "output_type": "display_data"
    }
   ],
   "source": [
    "#Cálculo de la solución\n",
    "psi = np.linalg.solve(AwithR, bwithr)\n",
    " #Graficamos\n",
    "import matplotlib.pyplot as plt\n",
    "\n",
    "fig, axs = plt.subplots(1,1)\n",
    "axs.set_xlabel('x (m)')\n",
    "axs.set_ylabel('Def (m)')\n",
    "plt.title('Deformación')\n",
    "\n",
    "#Printeamos la solución\n",
    "print(np.reshape(psi, nx+1))\n",
    "\n",
    "xu = np.linspace(0, 1.0, nx+1,endpoint = True)\n",
    "\n",
    "axs.plot(xu,psi,'rs',markersize=10)\n",
    "\n"
   ]
  },
  {
   "cell_type": "markdown",
   "id": "2429b515",
   "metadata": {},
   "source": [
    "### 2. Compare la solución con el script en FEniCS"
   ]
  },
  {
   "cell_type": "markdown",
   "id": "e91021bf",
   "metadata": {},
   "source": [
    "**Importo Fenics y defino la malla**"
   ]
  },
  {
   "cell_type": "code",
   "execution_count": 162,
   "id": "9c08629c",
   "metadata": {},
   "outputs": [],
   "source": [
    "from fenics import *\n",
    "# Defino la malla\n",
    "nx = 5 #numero de intervalos\n",
    "nodos = nx+1 #cantidad de nodos\n",
    "\n",
    "l0 = 1.0 #Longitud de la viga en [m]\n",
    "\n",
    "minx, maxx= 0.0, l0 \n",
    "mesh = IntervalMesh(nx, minx, maxx)#Malla en 1D "
   ]
  },
  {
   "cell_type": "markdown",
   "id": "3a71874e",
   "metadata": {},
   "source": [
    "**Definimos el dominio donde se definen nuestras funciones aproximadas (u, v)**"
   ]
  },
  {
   "cell_type": "code",
   "execution_count": 163,
   "id": "5c495a1b",
   "metadata": {},
   "outputs": [],
   "source": [
    "V0 = FunctionSpace(mesh, 'CG',1)#Continuous Lagrange elements, funciones sombreros"
   ]
  },
  {
   "cell_type": "markdown",
   "id": "a7373a60",
   "metadata": {},
   "source": [
    "**Definimos los bordes y los requisitos que debe cumplir el vértice para pertenecer a dicho borde**"
   ]
  },
  {
   "cell_type": "code",
   "execution_count": 171,
   "id": "58502e48",
   "metadata": {},
   "outputs": [],
   "source": [
    "class borde_izq(SubDomain):\n",
    "    def inside(self, x, on_boundary):\n",
    "        tol = 1E-14\n",
    "        return on_boundary and near(x[0], 0.0, tol)\n",
    "\n",
    "class borde_der(SubDomain):\n",
    "    def inside(self, x, on_boundary):\n",
    "        tol = 1E-14\n",
    "        l0 = 1.0\n",
    "        return on_boundary and near(x[0], l0, tol)"
   ]
  },
  {
   "cell_type": "markdown",
   "id": "36dc59a3",
   "metadata": {},
   "source": [
    "**Explicitamos que sobre dichos bordes anteriormente definidos aplicaremos condiciones.\n",
    "A su vez identificamos a los elementos de dichos bordes con un nombre. En este caso los\n",
    "elementos pertenecientes al borde izquierdo serán los elementos 0, mientras que los del borde\n",
    "derecho son los elementos 1:**"
   ]
  },
  {
   "cell_type": "code",
   "execution_count": 172,
   "id": "684b5379",
   "metadata": {},
   "outputs": [],
   "source": [
    "marcador_borde = MeshFunction(\"size_t\", mesh, mesh.topology().dim()-1, 0)\n",
    "bc_der = borde_der()\n",
    "bc_izq = borde_izq()\n",
    "bc_der.mark(marcador_borde, 1)\n",
    "bc_izq.mark(marcador_borde, 0)\n",
    "ds = Measure('ds', domain=mesh, subdomain_data=marcador_borde)"
   ]
  },
  {
   "cell_type": "markdown",
   "id": "4f544662",
   "metadata": {},
   "source": [
    "**Creamos las funciones con las cuales operaremos:**"
   ]
  },
  {
   "cell_type": "code",
   "execution_count": 173,
   "id": "32735787",
   "metadata": {},
   "outputs": [],
   "source": [
    "u = TrialFunction(V0)\n",
    "v = TestFunction(V0)\n",
    "f = Constant(1.0)"
   ]
  },
  {
   "cell_type": "markdown",
   "id": "525ea73d",
   "metadata": {},
   "source": [
    "**Realizamos un diccionario el cual almacenará las condiciones de borde con sus respectivas variables con la cual\n",
    "se define:**"
   ]
  },
  {
   "cell_type": "code",
   "execution_count": 174,
   "id": "9a24a339",
   "metadata": {},
   "outputs": [],
   "source": [
    "bound_cond = {0:{'Robin' : (k0, g0)},\n",
    "              1:{'Robin' : (k1, g1)}}"
   ]
  },
  {
   "cell_type": "markdown",
   "id": "d0cd61c7",
   "metadata": {},
   "source": [
    "**Armamos una lista con las expresiones obtenidas de las condiciones de borde de Robin para luego operar:**"
   ]
  },
  {
   "cell_type": "code",
   "execution_count": 175,
   "id": "e542380c",
   "metadata": {},
   "outputs": [],
   "source": [
    "bc_R = []\n",
    "for i in bound_cond:\n",
    "    if 'Robin' in bound_cond[i]:\n",
    "        k, g = bound_cond[i]['Robin']\n",
    "        bc_R.append(k*(u-g)*v*ds(i))"
   ]
  },
  {
   "cell_type": "markdown",
   "id": "8a2b67ab",
   "metadata": {},
   "source": [
    "**Agrupamos todo el sistema de ecuaciones en un solo lado de la ecuación y utilizamos herramientas propias de Fenics\n",
    "que nos extraerá la parte lineal L(v) y bilineal a(u,v):**"
   ]
  },
  {
   "cell_type": "code",
   "execution_count": 176,
   "id": "ad36dbae",
   "metadata": {},
   "outputs": [],
   "source": [
    "F = Ar*E*dot(grad(u), grad(v))*dx + sum(bc_R)-f*v*dx\n",
    "\n",
    "a, L = lhs(F), rhs(F)"
   ]
  },
  {
   "cell_type": "markdown",
   "id": "f623aa34",
   "metadata": {},
   "source": [
    "**Resolvemos y graficamos:**"
   ]
  },
  {
   "cell_type": "code",
   "execution_count": 177,
   "id": "1adc14b3",
   "metadata": {},
   "outputs": [
    {
     "name": "stdout",
     "output_type": "stream",
     "text": [
      "Cantidad de celdas: 5\n",
      "Cantidad de vertices: 6\n"
     ]
    },
    {
     "data": {
      "image/png": "[encoded data removed]",
      "text/plain": [
       "<Figure size 432x288 with 1 Axes>"
      ]
     },
     "metadata": {
      "needs_background": "light"
     },
     "output_type": "display_data"
    },
    {
     "name": "stdout",
     "output_type": "stream",
     "text": [
      "[1.33333332 1.33333332 1.33333332 1.33333332 1.33333332 1.33333332]\n"
     ]
    }
   ],
   "source": [
    "#Resolvemos \n",
    "u = Function(V0)\n",
    "solve(a == L, u)\n",
    "\n",
    "#Graficamos\n",
    "import matplotlib.pyplot as plt\n",
    "uh = u.compute_vertex_values(mesh) \n",
    "print('Cantidad de celdas:',nx)\n",
    "print('Cantidad de vertices:',len(uh))\n",
    "fig, axs = plt.subplots(1,1)\n",
    "\n",
    "import numpy as np\n",
    "xu = np.linspace(0.0, 1, len(uh),endpoint = True)\n",
    "axs.plot(xu,uh,'ro',markersize=10)\n",
    "axs.set_xlabel('x (m)')\n",
    "axs.set_ylabel('Def (m)')\n",
    "plt.title('Deformación')\n",
    "plt.show()\n",
    "print(uh)"
   ]
  },
  {
   "cell_type": "markdown",
   "id": "f857a9c1",
   "metadata": {},
   "source": [
    "**Printeamos los resultados obtenidos por las distintas vías y comparamos el error:**"
   ]
  },
  {
   "cell_type": "code",
   "execution_count": 179,
   "id": "e4ccc150",
   "metadata": {
    "scrolled": true
   },
   "outputs": [
    {
     "name": "stdout",
     "output_type": "stream",
     "text": [
      "Resultado a mano:  [1.3333333  1.33333331 1.33333331 1.33333331 1.33333331 1.33333331]\n",
      "Resultado Fenics:  [1.33333332 1.33333332 1.33333332 1.33333332 1.33333332 1.33333332]\n"
     ]
    },
    {
     "data": {
      "text/plain": [
       "array([1.57150573e-08, 1.57150573e-08, 1.57150575e-08, 1.57150575e-08,\n",
       "       1.57150577e-08, 1.57150579e-08])"
      ]
     },
     "execution_count": 179,
     "metadata": {},
     "output_type": "execute_result"
    }
   ],
   "source": [
    "print('Resultado a mano: ', np.reshape(psi,nx+1))\n",
    "print('Resultado Fenics: ', uh)\n",
    "uh-np.reshape(psi,nx+1)"
   ]
  },
  {
   "cell_type": "markdown",
   "id": "e843b59a",
   "metadata": {},
   "source": [
    "**Podemos osbervar que los resultados obtenidos de una y otra manera son muy similares, existe una diferencia de\n",
    "aproximadamente de 1.5E-8, la cuál es mínima pero existe. Estuve revisando y la verdad no sé que me podría faltar\n",
    "en el script de Fenics para que la diferencia sea lo más mínima posible. Sin embargo, podemos observar que, al \n",
    "aumentar la constante elástica del resorte del borde izquierdo 'ko', la deformación es menor, lo cuál fisicamente \n",
    "es razonable ya que bajo una misma fuerza la deformación es menor.**"
   ]
  },
  {
   "cell_type": "code",
   "execution_count": null,
   "id": "506e1e49",
   "metadata": {},
   "outputs": [],
   "source": []
  }
 ],
 "metadata": {
  "kernelspec": {
   "display_name": "Python 3",
   "language": "python",
   "name": "python3"
  },
  "language_info": {
   "codemirror_mode": {
    "name": "ipython",
    "version": 3
   },
   "file_extension": ".py",
   "mimetype": "text/x-python",
   "name": "python",
   "nbconvert_exporter": "python",
   "pygments_lexer": "ipython3",
   "version": "3.9.1"
  }
 },
 "nbformat": 4,
 "nbformat_minor": 5
}
